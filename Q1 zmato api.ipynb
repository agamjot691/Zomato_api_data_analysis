{
 "cells": [
  {
   "cell_type": "code",
   "execution_count": 2,
   "metadata": {},
   "outputs": [],
   "source": [
    "import matplotlib.pyplot as plt\n",
    "import numpy as np\n",
    "import pandas as pd \n",
    "import csv\n",
    "#importing all the libraries\n",
    "file_obj=open('zomato.csv',encoding='utf-8')\n",
    "df=pd.read_csv(file_obj)"
   ]
  },
  {
   "cell_type": "code",
   "execution_count": 3,
   "metadata": {},
   "outputs": [
    {
     "data": {
      "image/png": "[encoded data removed]",
      "text/plain": [
       "<Figure size 432x288 with 1 Axes>"
      ]
     },
     "metadata": {
      "needs_background": "light"
     },
     "output_type": "display_data"
    }
   ],
   "source": [
    "#Q1 part1\n",
    "df['City']= df['City'].replace(\"Faridabad\", \"N.C.R\")\n",
    "df['City']=df['City'].replace('New Delhi','N.C.R')\n",
    "df['City']=df['City'].replace('Gurgaon','N.C.R')\n",
    "df['City']=df['City'].replace('Noida','N.C.R')\n",
    "df['City']=df['City'].replace('Ghaziabad','N.C.R')\n",
    "#converting all the regions to be included in NCR ,NCR\n",
    "df2=df[df['City']=='N.C.R']\n",
    "df2\n",
    "len(df2)\n",
    "#finding lenght of df which will be equal to number of restaurant present in NCR\n",
    "df3=df[df['City']!='N.C.R']\n",
    "#selecting citites for rest of India\n",
    "df3=df3[df3['Country Code']==1]\n",
    "#slicing to find only indian cities\n",
    "len(df3)\n",
    "#finding lenght of df which will be equal to number of restaurant present in rest of India\n",
    "x=['N.C.R','Rest of India']\n",
    "y=[len(df2),len(df3)]\n",
    "plt.bar(x,y)\n",
    "plt.xticks(rotation=45)\n",
    "plt.xlabel(\"Delhi\")\n",
    "plt.ylabel(\"Rest Of India\")\n",
    "plt.title(\"Delhi vs Rest Of India\")\n",
    "plt.show()\n",
    "#plotting Graph\n"
   ]
  },
  {
   "cell_type": "code",
   "execution_count": 4,
   "metadata": {},
   "outputs": [
    {
     "data": {
      "text/plain": [
       "{'Afghani',\n",
       " 'African',\n",
       " 'American',\n",
       " 'Andhra',\n",
       " 'Arabian',\n",
       " 'Armenian',\n",
       " 'Asian',\n",
       " 'Assamese',\n",
       " 'Awadhi',\n",
       " 'Bakery',\n",
       " 'Belgian',\n",
       " 'Bengali',\n",
       " 'Beverages',\n",
       " 'Bihari',\n",
       " 'Biryani',\n",
       " 'British',\n",
       " 'Burger',\n",
       " 'Burmese',\n",
       " 'Cafe',\n",
       " 'Charcoal Grill',\n",
       " 'Chettinad',\n",
       " 'Chinese',\n",
       " 'Continental',\n",
       " 'Cuisine Varies',\n",
       " 'Deli',\n",
       " 'Desserts',\n",
       " 'Drinks Only',\n",
       " 'European',\n",
       " 'Fast Food',\n",
       " 'Finger Food',\n",
       " 'French',\n",
       " 'Goan',\n",
       " 'Greek',\n",
       " 'Gujarati',\n",
       " 'Healthy Food',\n",
       " 'Hyderabadi',\n",
       " 'Ice Cream',\n",
       " 'Indian',\n",
       " 'Indonesian',\n",
       " 'Iranian',\n",
       " 'Italian',\n",
       " 'Japanese',\n",
       " 'Juices',\n",
       " 'Kashmiri',\n",
       " 'Kerala',\n",
       " 'Korean',\n",
       " 'Lebanese',\n",
       " 'Lucknowi',\n",
       " 'Maharashtrian',\n",
       " 'Malaysian',\n",
       " 'Mangalorean',\n",
       " 'Mediterranean',\n",
       " 'Mexican',\n",
       " 'Middle Eastern',\n",
       " 'Mithai',\n",
       " 'Modern Indian',\n",
       " 'Moroccan',\n",
       " 'Mughlai',\n",
       " 'Naga',\n",
       " 'Nepalese',\n",
       " 'North Eastern',\n",
       " 'North Indian',\n",
       " 'Oriya',\n",
       " 'Pakistani',\n",
       " 'Parsi',\n",
       " 'Persian',\n",
       " 'Pizza',\n",
       " 'Portuguese',\n",
       " 'Rajasthani',\n",
       " 'Raw Meats',\n",
       " 'Salad',\n",
       " 'Sandwich',\n",
       " 'Seafood',\n",
       " 'South American',\n",
       " 'South Indian',\n",
       " 'Spanish',\n",
       " 'Sri Lankan',\n",
       " 'Steak',\n",
       " 'Street Food',\n",
       " 'Sushi',\n",
       " 'Tea',\n",
       " 'Tex-Mex',\n",
       " 'Thai',\n",
       " 'Tibetan',\n",
       " 'Turkish',\n",
       " 'Vietnamese'}"
      ]
     },
     "execution_count": 4,
     "metadata": {},
     "output_type": "execute_result"
    }
   ],
   "source": [
    "df2\n",
    "unique=df2[\"Cuisines\"].unique()\n",
    "unique=list(unique)\n",
    "unique\n",
    "#finding unique cuisines present in INDIA\n",
    "s={}\n",
    "x=[]\n",
    "for i in unique:\n",
    "\n",
    "    x.append(i.strip().split(\",\"))\n",
    "#appending comma including values which are unique into  a list x    \n",
    "for k in x:\n",
    "    for i in k:  \n",
    "        if i in s:\n",
    "            s[i.strip()]+=1\n",
    "        else :\n",
    "            s[i.strip()]=1\n",
    "#stripping and adding to a dictionary            \n",
    "            \n",
    "st=set()\n",
    "for i in s:\n",
    "    st.add(i)\n",
    "st\n",
    "#putting values in set so only unique values are appended\n"
   ]
  },
  {
   "cell_type": "code",
   "execution_count": 5,
   "metadata": {},
   "outputs": [
    {
     "data": {
      "text/plain": [
       "{'BBQ', 'Cajun', 'German', 'Malwani'}"
      ]
     },
     "execution_count": 5,
     "metadata": {},
     "output_type": "execute_result"
    }
   ],
   "source": [
    "#Q1 part 2\n",
    "df3\n",
    "uni=df3[\"Cuisines\"].unique()\n",
    "uni=list(uni)\n",
    "uni\n",
    "d={}\n",
    "y=[]\n",
    "for i in uni:\n",
    "# doing similar for Rest of Indian cities\n",
    "    y.append(i.strip().split(\",\"))\n",
    "for k in y:\n",
    "    for i in k:  \n",
    "        if i in d:\n",
    "            d[i.strip()]+=1\n",
    "        else :\n",
    "            d[i.strip()]=1\n",
    "st1=set()\n",
    "for i in d:\n",
    "    st1.add(i)\n",
    "    #adding to a set , for Indian values\n",
    "z=st1.difference(st)\n",
    "#finding cuisines not present in Delhi but in rest of India\n",
    "z#Dishes not in delhi\n",
    "    "
   ]
  },
  {
   "cell_type": "code",
   "execution_count": 6,
   "metadata": {},
   "outputs": [
    {
     "data": {
      "text/plain": [
       "[{'cuisine': {'cuisine_id': 152, 'cuisine_name': 'African'}},\n",
       " {'cuisine': {'cuisine_id': 280, 'cuisine_name': 'Author'}},\n",
       " {'cuisine': {'cuisine_id': 193, 'cuisine_name': 'BBQ'}},\n",
       " {'cuisine': {'cuisine_id': 5, 'cuisine_name': 'Bakery'}},\n",
       " {'cuisine': {'cuisine_id': 270, 'cuisine_name': 'Beverages'}},\n",
       " {'cuisine': {'cuisine_id': 159, 'cuisine_name': 'Brazilian'}},\n",
       " {'cuisine': {'cuisine_id': 168, 'cuisine_name': 'Burger'}},\n",
       " {'cuisine': {'cuisine_id': 30, 'cuisine_name': 'Cafe'}},\n",
       " {'cuisine': {'cuisine_id': 25, 'cuisine_name': 'Chinese'}},\n",
       " {'cuisine': {'cuisine_id': 1040, 'cuisine_name': 'Coffee'}},\n",
       " {'cuisine': {'cuisine_id': 881, 'cuisine_name': 'Crepes'}},\n",
       " {'cuisine': {'cuisine_id': 100, 'cuisine_name': 'Desserts'}},\n",
       " {'cuisine': {'cuisine_id': 40, 'cuisine_name': 'Fast Food'}},\n",
       " {'cuisine': {'cuisine_id': 271, 'cuisine_name': 'Finger Food'}},\n",
       " {'cuisine': {'cuisine_id': 187, 'cuisine_name': 'Fresh Fish'}},\n",
       " {'cuisine': {'cuisine_id': 314, 'cuisine_name': 'Gourmet Fast Food'}},\n",
       " {'cuisine': {'cuisine_id': 181, 'cuisine_name': 'Grill'}},\n",
       " {'cuisine': {'cuisine_id': 143, 'cuisine_name': 'Healthy Food'}},\n",
       " {'cuisine': {'cuisine_id': 233, 'cuisine_name': 'Ice Cream'}},\n",
       " {'cuisine': {'cuisine_id': 148, 'cuisine_name': 'Indian'}},\n",
       " {'cuisine': {'cuisine_id': 55, 'cuisine_name': 'Italian'}},\n",
       " {'cuisine': {'cuisine_id': 60, 'cuisine_name': 'Japanese'}},\n",
       " {'cuisine': {'cuisine_id': 178, 'cuisine_name': 'Kebab'}},\n",
       " {'cuisine': {'cuisine_id': 70, 'cuisine_name': 'Mediterranean'}},\n",
       " {'cuisine': {'cuisine_id': 73, 'cuisine_name': 'Mexican'}},\n",
       " {'cuisine': {'cuisine_id': 147, 'cuisine_name': 'Moroccan'}},\n",
       " {'cuisine': {'cuisine_id': 278, 'cuisine_name': 'Oriental'}},\n",
       " {'cuisine': {'cuisine_id': 286, 'cuisine_name': 'Petiscos'}},\n",
       " {'cuisine': {'cuisine_id': 82, 'cuisine_name': 'Pizza'}},\n",
       " {'cuisine': {'cuisine_id': 87, 'cuisine_name': 'Portuguese'}},\n",
       " {'cuisine': {'cuisine_id': 83, 'cuisine_name': 'Seafood'}},\n",
       " {'cuisine': {'cuisine_id': 141, 'cuisine_name': 'Steak'}},\n",
       " {'cuisine': {'cuisine_id': 90, 'cuisine_name': 'Street Food'}},\n",
       " {'cuisine': {'cuisine_id': 177, 'cuisine_name': 'Sushi'}},\n",
       " {'cuisine': {'cuisine_id': 211, 'cuisine_name': 'Swedish'}},\n",
       " {'cuisine': {'cuisine_id': 179, 'cuisine_name': 'Tapas'}},\n",
       " {'cuisine': {'cuisine_id': 95, 'cuisine_name': 'Thai'}},\n",
       " {'cuisine': {'cuisine_id': 142, 'cuisine_name': 'Turkish'}},\n",
       " {'cuisine': {'cuisine_id': 1034, 'cuisine_name': 'Vegan'}},\n",
       " {'cuisine': {'cuisine_id': 308, 'cuisine_name': 'Vegetarian'}}]"
      ]
     },
     "execution_count": 6,
     "metadata": {},
     "output_type": "execute_result"
    }
   ],
   "source": [
    "#answer explanation Q1 part 2 \n",
    "import requests\n",
    "from requests.auth import HTTPBasicAuth\n",
    "header={\"user-key\": \"410586e820e1fa578d47d77149ab24d4\"}\n",
    "a=requests.get('https://developers.zomato.com/api/v2.1/cuisines',headers=header,params={'city_id':'11902'})\n",
    "a\n",
    "k=a.json()\n",
    "k=k['cuisines']\n",
    "k\n",
    "#as we can see BBQ is present in delhi and rest all not present ,so dataset is a little incomplete"
   ]
  },
  {
   "cell_type": "code",
   "execution_count": 7,
   "metadata": {},
   "outputs": [
    {
     "name": "stderr",
     "output_type": "stream",
     "text": [
      "C:\\Users\\ajsre\\anaconda3\\lib\\site-packages\\pandas\\core\\series.py:4494: SettingWithCopyWarning: \n",
      "A value is trying to be set on a copy of a slice from a DataFrame\n",
      "\n",
      "See the caveats in the documentation: https://pandas.pydata.org/pandas-docs/stable/user_guide/indexing.html#returning-a-view-versus-a-copy\n",
      "  self._update_inplace(result)\n"
     ]
    },
    {
     "data": {
      "text/plain": [
       "[('Mexican', 50),\n",
       " ('Desserts', 55),\n",
       " ('Mughlai', 59),\n",
       " ('South Indian', 62),\n",
       " ('Fast Food', 97),\n",
       " ('Cafe', 136),\n",
       " ('Italian', 147),\n",
       " ('Continental', 177),\n",
       " ('Chinese', 242),\n",
       " ('North Indian', 349)]"
      ]
     },
     "execution_count": 7,
     "metadata": {},
     "output_type": "execute_result"
    }
   ],
   "source": [
    "#Q1 p3\n",
    "k=df2['Cuisines']#using data frame sliced for delhi values in above question\n",
    "d={}\n",
    "x=[]\n",
    "y=[]\n",
    "k.dropna(inplace=True)\n",
    "for i in k:\n",
    "    x.append(i.split(\",\"))\n",
    "#splitting the cusine values and appending in an list    \n",
    "for i in x:\n",
    "    for j in i:\n",
    "        y.append(j.strip())\n",
    "#stripping the cusine values and appending in other list\n",
    "for i in y:\n",
    "        if i in d:\n",
    "            d[i]+=1\n",
    "        else:\n",
    "            d[i]=1\n",
    "#appending values of liat into dictionary            \n",
    "d  \n",
    "sort_orders = sorted(d.items(), key=lambda x: x[1])\n",
    "sort_orders_delhi=sort_orders[-10:]\n",
    "#sorting dictionary based on values and finding Top 10\n",
    "sort_orders_delhi#Top 10 of Delhi\n",
    "k=df3['Cuisines']\n",
    "#using data frame sliced for Indian values in above question\n",
    "k\n",
    "d={}\n",
    "x=[]\n",
    "y=[]\n",
    "k.dropna(inplace=True)\n",
    "for i in k:\n",
    "    x.append(i.split(\",\"))\n",
    "for i in x:\n",
    "    for j in i:\n",
    "        y.append(j.strip())\n",
    "\n",
    "for i in y:\n",
    "        if i in d:\n",
    "            d[i]+=1\n",
    "        else:\n",
    "            d[i]=1  \n",
    "            \n",
    "#Doing same as above for Indian values\n",
    "sort_orders1 = sorted(d.items(), key=lambda x: x[1])\n",
    "sort_orders_India=sort_orders1[-10:]\n",
    "sort_orders_India\n",
    "      #TOP 10 Cuisines of India \n"
   ]
  },
  {
   "cell_type": "code",
   "execution_count": 8,
   "metadata": {},
   "outputs": [
    {
     "data": {
      "image/png": "[encoded data removed]",
      "text/plain": [
       "<Figure size 432x288 with 1 Axes>"
      ]
     },
     "metadata": {
      "needs_background": "light"
     },
     "output_type": "display_data"
    }
   ],
   "source": [
    "#Q1 p4 Using pie graphs we can see how delhi cuisines varies from rest of India\n",
    "\n",
    "yd = [lis[1] for lis in sort_orders[-30:]] \n",
    "xd = [lis[0] for lis in sort_orders[-30:]] \n",
    "yr = [lis[1] for lis in sort_orders1[-30:]]           \n",
    "xr = [lis[0] for lis in sort_orders1[-30:]]\n",
    "plt.title('statistics of delhi')\n",
    "plt.bar(xd,yd)\n",
    "plt.xticks(rotation=75)\n",
    "plt.show()\n",
    "#plotting graph for delhi"
   ]
  },
  {
   "cell_type": "code",
   "execution_count": 9,
   "metadata": {},
   "outputs": [
    {
     "data": {
      "image/png": "[encoded data removed]",
      "text/plain": [
       "<Figure size 432x288 with 1 Axes>"
      ]
     },
     "metadata": {
      "needs_background": "light"
     },
     "output_type": "display_data"
    }
   ],
   "source": [
    "plt.title('statistics of rest of INDIA')\n",
    "plt.bar(xr,yr)\n",
    "plt.xticks(rotation=75)\n",
    "\n",
    "plt.show()\n",
    "#plotting graph for rest of India\n",
    "#as we can see major differrenced between delhi and India is that other regions of India cater to Regional delicacies whereas Delhi\n",
    "#being a metropoliton caters to International cuisine as well."
   ]
  },
  {
   "cell_type": "code",
   "execution_count": null,
   "metadata": {},
   "outputs": [],
   "source": []
  }
 ],
 "metadata": {
  "kernelspec": {
   "display_name": "Python 3",
   "language": "python",
   "name": "python3"
  },
  "language_info": {
   "codemirror_mode": {
    "name": "ipython",
    "version": 3
   },
   "file_extension": ".py",
   "mimetype": "text/x-python",
   "name": "python",
   "nbconvert_exporter": "python",
   "pygments_lexer": "ipython3",
   "version": "3.8.3"
  }
 },
 "nbformat": 4,
 "nbformat_minor": 4
}
