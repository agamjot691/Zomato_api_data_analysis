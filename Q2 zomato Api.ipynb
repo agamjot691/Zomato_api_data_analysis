{
 "cells": [
  {
   "cell_type": "code",
   "execution_count": 77,
   "metadata": {},
   "outputs": [],
   "source": [
    "import matplotlib.pyplot as plt\n",
    "import numpy as np\n",
    "import pandas as pd \n",
    "import csv\n",
    "#importing all the libraries\n",
    "file_obj=open('zomato.csv',encoding='utf-8')\n",
    "df=pd.read_csv(file_obj)"
   ]
  },
  {
   "cell_type": "code",
   "execution_count": 107,
   "metadata": {},
   "outputs": [
    {
     "data": {
      "image/png": "[encoded data removed]",
      "text/plain": [
       "<Figure size 432x288 with 1 Axes>"
      ]
     },
     "metadata": {
      "needs_background": "light"
     },
     "output_type": "display_data"
    }
   ],
   "source": [
    "#Q2 part1 q1\n",
    "#for Indian vlue as specified in question\n",
    "df=df[df['Country Code']==1]\n",
    "df1=df[['Aggregate rating','Votes']]\n",
    "#slicing and getting required columns\n",
    "df1=df1.astype('float64')\n",
    "#dividing the ratings so as to plot in graph\n",
    "sum4=df[df['Aggregate rating']>=4]['Votes'].sum()\n",
    "sum3=df[df['Aggregate rating']>=3 ]['Votes'].sum()-sum4\n",
    "sum2=df[df['Aggregate rating']>=2 ]['Votes'].sum()-sum4-sum3\n",
    "sum1=df[df['Aggregate rating']>=1 ]['Votes'].sum()-sum4-sum3-sum2\n",
    "#grouping above values according to rate category and find thew sum \n",
    "y=[sum1,sum2,sum3,sum4]\n",
    "x=['1-2','2-3','3-4','4-5']\n",
    "plt.bar(x,y)\n",
    "plt.xlabel(\"Ratings\")\n",
    "plt.ylabel(\"Number of Votes\")\n",
    "plt.title(\"Effects of votes on user rating\")\n",
    "plt.show()\n",
    "#plotting graph"
   ]
  },
  {
   "cell_type": "code",
   "execution_count": 79,
   "metadata": {},
   "outputs": [
    {
     "data": {
      "text/plain": [
       "624     1\n",
       "625     1\n",
       "626     0\n",
       "627     0\n",
       "628     2\n",
       "       ..\n",
       "9271    4\n",
       "9272    2\n",
       "9273    2\n",
       "9274    3\n",
       "9275    0\n",
       "Name: Cuisines, Length: 8652, dtype: int64"
      ]
     },
     "execution_count": 79,
     "metadata": {},
     "output_type": "execute_result"
    }
   ],
   "source": [
    "#Q2 part1 q2\n",
    "\n",
    "df2=df[['Cuisines','Aggregate rating']]\n",
    "#Slicing for getting the desired values\n",
    "df2\n",
    "\n",
    "dfk = df['Cuisines'].str.count(',')\n",
    "#Using commas to find no of values in cuisines\n",
    "dfk"
   ]
  },
  {
   "cell_type": "code",
   "execution_count": 80,
   "metadata": {},
   "outputs": [
    {
     "name": "stderr",
     "output_type": "stream",
     "text": [
      "<ipython-input-80-cc8db424bb71>:2: SettingWithCopyWarning: \n",
      "A value is trying to be set on a copy of a slice from a DataFrame.\n",
      "Try using .loc[row_indexer,col_indexer] = value instead\n",
      "\n",
      "See the caveats in the documentation: https://pandas.pydata.org/pandas-docs/stable/user_guide/indexing.html#returning-a-view-versus-a-copy\n",
      "  df2[\"Cuisine count\"]=dfk\n"
     ]
    },
    {
     "data": {
      "text/html": [
       "<div>\n",
       "<style scoped>\n",
       "    .dataframe tbody tr th:only-of-type {\n",
       "        vertical-align: middle;\n",
       "    }\n",
       "\n",
       "    .dataframe tbody tr th {\n",
       "        vertical-align: top;\n",
       "    }\n",
       "\n",
       "    .dataframe thead th {\n",
       "        text-align: right;\n",
       "    }\n",
       "</style>\n",
       "<table border=\"1\" class=\"dataframe\">\n",
       "  <thead>\n",
       "    <tr style=\"text-align: right;\">\n",
       "      <th></th>\n",
       "      <th>Cuisines</th>\n",
       "      <th>Aggregate rating</th>\n",
       "      <th>Cuisine count</th>\n",
       "    </tr>\n",
       "  </thead>\n",
       "  <tbody>\n",
       "    <tr>\n",
       "      <th>624</th>\n",
       "      <td>North Indian, Mughlai</td>\n",
       "      <td>3.9</td>\n",
       "      <td>2</td>\n",
       "    </tr>\n",
       "    <tr>\n",
       "      <th>625</th>\n",
       "      <td>North Indian, Mughlai</td>\n",
       "      <td>3.5</td>\n",
       "      <td>2</td>\n",
       "    </tr>\n",
       "    <tr>\n",
       "      <th>626</th>\n",
       "      <td>North Indian</td>\n",
       "      <td>3.6</td>\n",
       "      <td>1</td>\n",
       "    </tr>\n",
       "    <tr>\n",
       "      <th>627</th>\n",
       "      <td>Rajasthani</td>\n",
       "      <td>4.0</td>\n",
       "      <td>1</td>\n",
       "    </tr>\n",
       "    <tr>\n",
       "      <th>628</th>\n",
       "      <td>North Indian, Chinese, Mughlai</td>\n",
       "      <td>4.2</td>\n",
       "      <td>3</td>\n",
       "    </tr>\n",
       "    <tr>\n",
       "      <th>...</th>\n",
       "      <td>...</td>\n",
       "      <td>...</td>\n",
       "      <td>...</td>\n",
       "    </tr>\n",
       "    <tr>\n",
       "      <th>9271</th>\n",
       "      <td>Continental, Seafood, Chinese, North Indian, B...</td>\n",
       "      <td>3.6</td>\n",
       "      <td>5</td>\n",
       "    </tr>\n",
       "    <tr>\n",
       "      <th>9272</th>\n",
       "      <td>Cafe, North Indian, Chinese</td>\n",
       "      <td>3.7</td>\n",
       "      <td>3</td>\n",
       "    </tr>\n",
       "    <tr>\n",
       "      <th>9273</th>\n",
       "      <td>Burger, Pizza, Biryani</td>\n",
       "      <td>4.3</td>\n",
       "      <td>3</td>\n",
       "    </tr>\n",
       "    <tr>\n",
       "      <th>9274</th>\n",
       "      <td>American, North Indian, Thai, Continental</td>\n",
       "      <td>3.8</td>\n",
       "      <td>4</td>\n",
       "    </tr>\n",
       "    <tr>\n",
       "      <th>9275</th>\n",
       "      <td>Italian</td>\n",
       "      <td>4.4</td>\n",
       "      <td>1</td>\n",
       "    </tr>\n",
       "  </tbody>\n",
       "</table>\n",
       "<p>8652 rows × 3 columns</p>\n",
       "</div>"
      ],
      "text/plain": [
       "                                               Cuisines  Aggregate rating  \\\n",
       "624                               North Indian, Mughlai               3.9   \n",
       "625                               North Indian, Mughlai               3.5   \n",
       "626                                        North Indian               3.6   \n",
       "627                                          Rajasthani               4.0   \n",
       "628                      North Indian, Chinese, Mughlai               4.2   \n",
       "...                                                 ...               ...   \n",
       "9271  Continental, Seafood, Chinese, North Indian, B...               3.6   \n",
       "9272                        Cafe, North Indian, Chinese               3.7   \n",
       "9273                             Burger, Pizza, Biryani               4.3   \n",
       "9274          American, North Indian, Thai, Continental               3.8   \n",
       "9275                                            Italian               4.4   \n",
       "\n",
       "      Cuisine count  \n",
       "624               2  \n",
       "625               2  \n",
       "626               1  \n",
       "627               1  \n",
       "628               3  \n",
       "...             ...  \n",
       "9271              5  \n",
       "9272              3  \n",
       "9273              3  \n",
       "9274              4  \n",
       "9275              1  \n",
       "\n",
       "[8652 rows x 3 columns]"
      ]
     },
     "execution_count": 80,
     "metadata": {},
     "output_type": "execute_result"
    }
   ],
   "source": [
    "dfk+=1\n",
    "df2[\"Cuisine count\"]=dfk\n",
    "#increasing by 1 to get right number of values in cuisine column\n",
    "df2"
   ]
  },
  {
   "cell_type": "code",
   "execution_count": 81,
   "metadata": {},
   "outputs": [],
   "source": [
    "avg4=df2[df2['Cuisine count']>=4]['Aggregate rating'].mean()\n",
    "avg3=df2[df2['Cuisine count']==3]['Aggregate rating'].mean()\n",
    "avg2=df2[df2['Cuisine count']==2]['Aggregate rating'].mean()\n",
    "avg1=df2[df2['Cuisine count']==1]['Aggregate rating'].mean()\n",
    "#dividing into categories and groupuing by the ratings and finding mean\n",
    "size=[avg1,avg2,avg3,avg4]\n",
    "labels=['1cuisine','2cuisines','3cuisines','4cuisines']"
   ]
  },
  {
   "cell_type": "code",
   "execution_count": 82,
   "metadata": {},
   "outputs": [
    {
     "data": {
      "image/png": "[encoded data removed]",
      "text/plain": [
       "<Figure size 432x288 with 1 Axes>"
      ]
     },
     "metadata": {
      "needs_background": "light"
     },
     "output_type": "display_data"
    }
   ],
   "source": [
    "plt.title('Effects of serving no of  vairieties of cuisine on  User rating')\n",
    "plt.plot( labels,size)\n",
    "\n",
    "plt.show()\n"
   ]
  },
  {
   "cell_type": "code",
   "execution_count": 83,
   "metadata": {},
   "outputs": [],
   "source": [
    "#Q2 part1 q3\n",
    "df3=df[['Average Cost for two','Aggregate rating']]\n",
    "df4=df3.groupby(['Average Cost for two'])['Aggregate rating'].mean()\n",
    "#slicing to get requires columns\n",
    "df4=df4[1:]\n",
    "#removing cost 0 which is not required"
   ]
  },
  {
   "cell_type": "code",
   "execution_count": 84,
   "metadata": {},
   "outputs": [
    {
     "data": {
      "image/png": "[encoded data removed]",
      "text/plain": [
       "<Figure size 432x288 with 1 Axes>"
      ]
     },
     "metadata": {
      "needs_background": "light"
     },
     "output_type": "display_data"
    }
   ],
   "source": [
    "y=df4.values\n",
    "x=df4.index\n",
    "s=[]\n",
    "s1=[]\n",
    "for i in x:\n",
    "    s.append(i)\n",
    "#appending index in list    \n",
    "for i in y:\n",
    "    s1.append(i)\n",
    "#appending values in list    \n",
    "y=s1\n",
    "x=s\n",
    "plt.plot(x[1:79],y[1:79])\n",
    "plt.xlabel('Average cost')\n",
    "plt.ylabel('Rating')\n",
    "plt.grid()\n",
    "plt.show()"
   ]
  },
  {
   "cell_type": "code",
   "execution_count": 105,
   "metadata": {},
   "outputs": [
    {
     "data": {
      "image/png": "[encoded data removed]",
      "text/plain": [
       "<Figure size 432x288 with 1 Axes>"
      ]
     },
     "metadata": {
      "needs_background": "light"
     },
     "output_type": "display_data"
    }
   ],
   "source": [
    "#Q2 part1 q4 \n",
    "df5=df[df['Country Code']==1]\n",
    "df5\n",
    "uni=df5[\"Cuisines\"]\n",
    "\n",
    "\n",
    "uni\n",
    "uni=list(uni)\n",
    "\n",
    "d={}\n",
    "y=[]\n",
    "arr=[]\n",
    "\n",
    "for i in uni:\n",
    "\n",
    "    y.append(i.split(\",\"))\n",
    "for i in y:\n",
    "    for k in i:\n",
    "        j=k.strip()\n",
    "        arr.append(j)    \n",
    "\n",
    "for i in arr:\n",
    "  \n",
    "        if i in d:\n",
    "            d[i]+=1\n",
    "        else :\n",
    "            d[i]=1\n",
    "\n",
    "sort_orders = sorted(d.items(), key=lambda x: x[1])\n",
    "sort_orders=sort_orders[0:10]#taking out top 10 least served dishes\n",
    "lst=[3.9,4.6,3.5,0,3.8,4,3.6,3.6,3.8,4]\n",
    "#finding mean rating in accordance to them\n",
    "xd = ['Belgian','Persian','Malwani','Cuisine Varies','Deli','Sri Lankan','BBQ','Cajun','Sandwich','Steak'] \n",
    "#appending the names\n",
    "plt.title('effect of specific cusisines served by restaurant on rating ')\n",
    "plt.xticks(rotation=45)\n",
    "plt.bar(xd,lst)\n",
    "plt.show()\n",
    "\n"
   ]
  },
  {
   "cell_type": "code",
   "execution_count": null,
   "metadata": {},
   "outputs": [],
   "source": [
    "#Q2 part2\n",
    "df6=df[df['Country Code']==1]\n",
    "df6\n",
    "#slicing for getting Indian Values\n",
    "df6['multiply']=df6['Aggregate rating']*df6['Votes']\n",
    "#finding number of Votes*ratings\n"
   ]
  },
  {
   "cell_type": "code",
   "execution_count": 108,
   "metadata": {},
   "outputs": [
    {
     "name": "stdout",
     "output_type": "stream",
     "text": [
      "Aminabad 4.9\n",
      "Banjara Hills 4.7187617260787995\n",
      "Deccan Gymkhana 4.8\n",
      "Express Avenue Mall,  Royapettah 4.8\n",
      "Friends Colony 4.886916367367881\n",
      "Hotel Clarks Amer, Malviya Nagar 4.9\n",
      "Kirlampudi Layout 4.820161290322581\n",
      "Powai 4.841868613138686\n",
      "Riverside Mall, Gomti Nagar 4.7\n",
      "Sector 5, Salt Lake 4.707022552098202\n"
     ]
    }
   ],
   "source": [
    "df7=df6.groupby('Locality')['Votes'].sum()\n",
    "#Grouping by locaality to find total votes\n",
    "df8=df6.groupby('Locality')['multiply'].sum()\n",
    "#Grouping by locality to find the no of ratings into votes\n",
    "\n",
    "df9=df8/df7\n",
    "#dividing to find the weights\n",
    "df9.dropna(inplace=True)\n",
    "\n",
    "#dropping to find nan\n",
    "x=list(df9.index)\n",
    "#storing thelabes\n",
    "y=list(df9.values)\n",
    "#storing the values\n",
    "res = sorted(range(len(y)), key = lambda sub: y[sub])[-10:] \n",
    "#sorting the values\n",
    "res\n",
    "for i in range(0,len(x)):\n",
    "    for j in res:\n",
    "        if j==i:\n",
    "            print(x[i],y[i])\n",
    "#printing the top 10 values             "
   ]
  },
  {
   "cell_type": "code",
   "execution_count": null,
   "metadata": {},
   "outputs": [],
   "source": []
  }
 ],
 "metadata": {
  "kernelspec": {
   "display_name": "Python 3",
   "language": "python",
   "name": "python3"
  },
  "language_info": {
   "codemirror_mode": {
    "name": "ipython",
    "version": 3
   },
   "file_extension": ".py",
   "mimetype": "text/x-python",
   "name": "python",
   "nbconvert_exporter": "python",
   "pygments_lexer": "ipython3",
   "version": "3.8.3"
  }
 },
 "nbformat": 4,
 "nbformat_minor": 4
}
